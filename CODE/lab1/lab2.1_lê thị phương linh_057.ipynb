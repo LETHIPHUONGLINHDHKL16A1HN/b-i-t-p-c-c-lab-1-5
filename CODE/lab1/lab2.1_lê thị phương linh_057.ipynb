{
 "cells": [
  {
   "cell_type": "code",
   "execution_count": 1,
   "metadata": {},
   "outputs": [
    {
     "name": "stdout",
     "output_type": "stream",
     "text": [
      "Dữ liệu nhiệt độ hàng ngày trong một tháng:\n",
      "[25.73298036 26.82435019 34.46627595 16.67779662 15.07318343 29.77318235\n",
      " 23.46949468 13.91170353 27.26238691 13.80258422 19.44460978 12.89031475\n",
      " 21.35038226 29.21571147 33.09835926 21.84043881 26.38231563 19.2847644\n",
      " 27.90975815 14.69051791 12.59604552 34.37160943 11.76716526 20.65996889\n",
      " 16.47528553 21.51480708 21.95579876 23.81617629 32.45741052 27.23911937]\n",
      "Nhiệt độ trung bình trong tháng: 27.194\n"
     ]
    }
   ],
   "source": [
    "import numpy as np\n",
    "\n",
    "nhiet_do = np.round(np.random.rand(30)*50, 2)\n",
    "\n",
    "#Tính nhiệt độ trung bình trong tháng\n",
    "nhiet_do_trung_binh = np.mean(nhiet_do)\n",
    "#Tạo dữ liệu nhiệt độ hàng ngày trong một tháng\n",
    "nhiet_do = np.random.uniform(10, 35, 30)\n",
    "\n",
    "#Làm tròn dữnhiet_do\n",
    "#In ra kết quả\n",
    "print(\"Dữ liệu nhiệt độ hàng ngày trong một tháng:\") \n",
    "print(nhiet_do) \n",
    "print(\"Nhiệt độ trung bình trong tháng:\", nhiet_do_trung_binh)\n",
    "\n",
    "\n"
   ]
  },
  {
   "cell_type": "code",
   "execution_count": 3,
   "metadata": {},
   "outputs": [
    {
     "name": "stdout",
     "output_type": "stream",
     "text": [
      "Dữ liệu nhiệt độ hàng ngày trong tháng:\n",
      "[18.16 16.86 19.34 22.77 26.85 24.85 20.22 18.95 28.63 20.16 18.62 26.55\n",
      " 22.15 28.51 19.19 15.39 23.45 25.5  19.17 18.81 25.23 26.29 24.04 26.86\n",
      " 21.1  24.66 28.78 22.   21.64 16.76]\n",
      "Nhiệt độ trung bình trong tháng: 22.382999999999996\n",
      "Ngày có nhiệt độ cao nhất: 27\n",
      "Ngày có nhiệt độ thấp nhất: 16\n",
      "Ngày có sự biến đổi nhiệt độ cao nhất: 8\n"
     ]
    }
   ],
   "source": [
    "import numpy as np\n",
    "\n",
    "# Tạo mảng Numpy mô phỏng dữ liệu nhiệt độ hàng ngày trong một tháng\n",
    "nhiet_do = np.random.uniform(15, 30, 30)\n",
    "\n",
    "# Làm tròn dữ liệu đến 2 chữ số sau dấu phẩy\n",
    "nhiet_do = np.round(nhiet_do, 2)\n",
    "\n",
    "# In ra mảng dữ liệu nhiệt độ\n",
    "print(\"Dữ liệu nhiệt độ hàng ngày trong tháng:\")\n",
    "print(nhiet_do)\n",
    "\n",
    "# Tính nhiệt độ trung bình trong tháng\n",
    "nhiet_do_trung_binh = np.mean(nhiet_do)\n",
    "\n",
    "# In ra nhiệt độ trung bình trong tháng\n",
    "print(\"Nhiệt độ trung bình trong tháng:\", nhiet_do_trung_binh)\n",
    "\n",
    "# Xác định ngày có nhiệt độ cao nhất, thấp nhất và ngày thứ mấy trong tháng\n",
    "ngay_cao_nhat = np.argmax(nhiet_do) + 1\n",
    "ngay_thap_nhat = np.argmin(nhiet_do) + 1\n",
    "\n",
    "# In ra ngày có nhiệt độ cao nhất, thấp nhất và ngày thứ mấy trong tháng\n",
    "print(\"Ngày có nhiệt độ cao nhất:\", ngay_cao_nhat)\n",
    "print(\"Ngày có nhiệt độ thấp nhất:\", ngay_thap_nhat)\n",
    "\n",
    "# Thống kê sự chênh lệch nhiệt độ giữa các ngày và tìm ngày có sự biến đổi nhiệt độ cao nhất\n",
    "chenh_lech_nhiet_do = np.diff(nhiet_do)\n",
    "ngay_chenh_lech_cao_nhat = np.argmax(np.abs(chenh_lech_nhiet_do)) + 1\n",
    "\n",
    "# In ra ngày có sự biến đổi nhiệt độ cao nhất\n",
    "print(\"Ngày có sự biến đổi nhiệt độ cao nhất:\", ngay_chenh_lech_cao_nhat)\n",
    "\n",
    "# Đưa ra tất cả các ngày có nhiệt độ cao hơn 20 độ C.\n",
    "condition= nhiet_do >20\n",
    "indices = np.where(condition)\n",
    "day_indices=indices[0]\n",
    "days_above_20_separated=day_indices +1\n"
   ]
  },
  {
   "cell_type": "code",
   "execution_count": 4,
   "metadata": {},
   "outputs": [
    {
     "ename": "AttributeError",
     "evalue": "module 'numpy' has no attribute 'rounb'",
     "output_type": "error",
     "traceback": [
      "\u001b[1;31m---------------------------------------------------------------------------\u001b[0m",
      "\u001b[1;31mAttributeError\u001b[0m                            Traceback (most recent call last)",
      "Cell \u001b[1;32mIn[4], line 1\u001b[0m\n\u001b[1;32m----> 1\u001b[0m nhiet_do\u001b[38;5;241m=\u001b[39m\u001b[43mnp\u001b[49m\u001b[38;5;241;43m.\u001b[39;49m\u001b[43mrounb\u001b[49m(np\u001b[38;5;241m.\u001b[39mrandom\u001b[38;5;241m.\u001b[39munifrom(\u001b[38;5;241m10.0\u001b[39m,\u001b[38;5;241m30.0\u001b[39m))\n",
      "File \u001b[1;32m~\\AppData\\Local\\Packages\\PythonSoftwareFoundation.Python.3.11_qbz5n2kfra8p0\\LocalCache\\local-packages\\Python311\\site-packages\\numpy\\__init__.py:347\u001b[0m, in \u001b[0;36m__getattr__\u001b[1;34m(attr)\u001b[0m\n\u001b[0;32m    344\u001b[0m     \u001b[38;5;124m\"\u001b[39m\u001b[38;5;124mRemoved in NumPy 1.25.0\u001b[39m\u001b[38;5;124m\"\u001b[39m\n\u001b[0;32m    345\u001b[0m     \u001b[38;5;28;01mraise\u001b[39;00m \u001b[38;5;167;01mRuntimeError\u001b[39;00m(\u001b[38;5;124m\"\u001b[39m\u001b[38;5;124mTester was removed in NumPy 1.25.\u001b[39m\u001b[38;5;124m\"\u001b[39m)\n\u001b[1;32m--> 347\u001b[0m \u001b[38;5;28;01mraise\u001b[39;00m \u001b[38;5;167;01mAttributeError\u001b[39;00m(\u001b[38;5;124m\"\u001b[39m\u001b[38;5;124mmodule \u001b[39m\u001b[38;5;132;01m{!r}\u001b[39;00m\u001b[38;5;124m has no attribute \u001b[39m\u001b[38;5;124m\"\u001b[39m\n\u001b[0;32m    348\u001b[0m                      \u001b[38;5;124m\"\u001b[39m\u001b[38;5;132;01m{!r}\u001b[39;00m\u001b[38;5;124m\"\u001b[39m\u001b[38;5;241m.\u001b[39mformat(\u001b[38;5;18m__name__\u001b[39m, attr))\n",
      "\u001b[1;31mAttributeError\u001b[0m: module 'numpy' has no attribute 'rounb'"
     ]
    }
   ],
   "source": []
  }
 ],
 "metadata": {
  "kernelspec": {
   "display_name": "Python 3",
   "language": "python",
   "name": "python3"
  },
  "language_info": {
   "codemirror_mode": {
    "name": "ipython",
    "version": 3
   },
   "file_extension": ".py",
   "mimetype": "text/x-python",
   "name": "python",
   "nbconvert_exporter": "python",
   "pygments_lexer": "ipython3",
   "version": "3.11.7"
  }
 },
 "nbformat": 4,
 "nbformat_minor": 2
}
