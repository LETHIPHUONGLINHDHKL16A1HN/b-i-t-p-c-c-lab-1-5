{
 "cells": [
  {
   "cell_type": "code",
   "execution_count": 5,
   "metadata": {},
   "outputs": [],
   "source": [
    "import pandas as pd\n",
    "import pandas as pd"
   ]
  },
  {
   "cell_type": "markdown",
   "metadata": {},
   "source": [
    "3.1.\n",
    "1. Đọc file stocks1.csv vào DataFrame stocks1.\n",
    "2. Hiển thị 5 dòng đầu tiên của stocks1.\n",
    "3. Hiển thị kiểu dữ liệu (dtype) của mỗi cột trong stocks1.\n",
    "4. Xem thông tin tổng quan (info) của stocks1."
   ]
  },
  {
   "cell_type": "code",
   "execution_count": 6,
   "metadata": {},
   "outputs": [
    {
     "name": "stdout",
     "output_type": "stream",
     "text": [
      "5 dòng đầu tiên của stocks1:\n",
      "       date symbol     open     high      low    close   volume\n",
      "0  01-03-19   AMZN  1655.13  1674.26  1651.00  1671.73  4974877\n",
      "1  04-03-19   AMZN  1685.00  1709.43  1674.36  1696.17  6167358\n",
      "2  05-03-19   AMZN  1702.95  1707.80  1689.01  1692.43  3681522\n",
      "3  06-03-19   AMZN  1695.97      NaN      NaN  1668.95  3996001\n",
      "4  07-03-19   AMZN  1667.37  1669.75  1620.51  1625.95  4957017\n",
      "Kiểu dữ liệu của mỗi cột trong stocks1:\n",
      "date       object\n",
      "symbol     object\n",
      "open      float64\n",
      "high      float64\n",
      "low       float64\n",
      "close     float64\n",
      "volume      int64\n",
      "dtype: object\n",
      "Thông tin tổng quan của stocks1:\n",
      "<class 'pandas.core.frame.DataFrame'>\n",
      "RangeIndex: 15 entries, 0 to 14\n",
      "Data columns (total 7 columns):\n",
      " #   Column  Non-Null Count  Dtype  \n",
      "---  ------  --------------  -----  \n",
      " 0   date    15 non-null     object \n",
      " 1   symbol  15 non-null     object \n",
      " 2   open    15 non-null     float64\n",
      " 3   high    13 non-null     float64\n",
      " 4   low     13 non-null     float64\n",
      " 5   close   15 non-null     float64\n",
      " 6   volume  15 non-null     int64  \n",
      "dtypes: float64(4), int64(1), object(2)\n",
      "memory usage: 972.0+ bytes\n",
      "None\n"
     ]
    }
   ],
   "source": [
    "# 1. Đọc file stocks1.csv vào DataFrame stocks1.\n",
    "stocks1 = pd.read_csv('D:\\Lê thị phương linh\\lab3_le thi phuong linh_057\\DATA\\stocks1.csv')\n",
    "\n",
    "# 2. Hiển thị 5 dòng đầu tiên của stocks1.\n",
    "print(\"5 dòng đầu tiên của stocks1:\")\n",
    "print(stocks1.head())\n",
    "\n",
    "# 3. Hiển thị kiểu dữ liệu (dtype) của mỗi cột trong stocks1.\n",
    "print(\"Kiểu dữ liệu của mỗi cột trong stocks1:\")\n",
    "print(stocks1.dtypes)\n",
    "\n",
    "# 4. Xem thông tin tổng quan (info) của stocks1.\n",
    "print(\"Thông tin tổng quan của stocks1:\")\n",
    "print(stocks1.info())\n",
    "\n"
   ]
  },
  {
   "cell_type": "markdown",
   "metadata": {},
   "source": []
  },
  {
   "cell_type": "markdown",
   "metadata": {},
   "source": [
    "LAB3.2\n",
    "1. Kiểm tra xem trong stocks1 có dữ liệu Null nào không.\n",
    "2. Thay thế dữ liệu Null ở cột high bằng giá trị trung bình của cột high.\n",
    "3. Thay thế dữ liệu Null ở cột low bằng giá trị trung bình của cột low.\n",
    "4. Hiển thị thông tin tổng quan để xác nhận không còn dữ liệu Null"
   ]
  },
  {
   "cell_type": "code",
   "execution_count": 7,
   "metadata": {},
   "outputs": [
    {
     "name": "stdout",
     "output_type": "stream",
     "text": [
      "Kiểm tra xem trong stocks1 có dữ liệu Null nào không:\n",
      "date      0\n",
      "symbol    0\n",
      "open      0\n",
      "high      2\n",
      "low       2\n",
      "close     0\n",
      "volume    0\n",
      "dtype: int64\n",
      "\n",
      "Thông tin tổng quan sau khi thay thế dữ liệu Null:\n",
      "<class 'pandas.core.frame.DataFrame'>\n",
      "RangeIndex: 15 entries, 0 to 14\n",
      "Data columns (total 7 columns):\n",
      " #   Column  Non-Null Count  Dtype  \n",
      "---  ------  --------------  -----  \n",
      " 0   date    15 non-null     object \n",
      " 1   symbol  15 non-null     object \n",
      " 2   open    15 non-null     float64\n",
      " 3   high    15 non-null     float64\n",
      " 4   low     15 non-null     float64\n",
      " 5   close   15 non-null     float64\n",
      " 6   volume  15 non-null     int64  \n",
      "dtypes: float64(4), int64(1), object(2)\n",
      "memory usage: 972.0+ bytes\n",
      "None\n"
     ]
    }
   ],
   "source": [
    "# Kiểm tra xem trong stocks1 có dữ liệu Null nào không.\n",
    "print(\"Kiểm tra xem trong stocks1 có dữ liệu Null nào không:\")\n",
    "print(stocks1.isnull().sum())\n",
    "\n",
    "# Thay thế dữ liệu Null ở cột high bằng giá trị trung bình của cột high.\n",
    "stocks1[\"high\"].fillna(stocks1[\"high\"].mean(), inplace=True)\n",
    "\n",
    "# Thay thế dữ liệu Null ở cột low bằng giá trị trung bình của cột low.\n",
    "stocks1[\"low\"].fillna(stocks1[\"low\"].mean(), inplace=True)\n",
    "\n",
    "# Hiển thị thông tin tổng quan để xác nhận không còn dữ liệu Null\n",
    "print(\"\\nThông tin tổng quan sau khi thay thế dữ liệu Null:\")\n",
    "print(stocks1.info())"
   ]
  },
  {
   "cell_type": "markdown",
   "metadata": {},
   "source": [
    "lab 3.3\n"
   ]
  },
  {
   "cell_type": "code",
   "execution_count": 8,
   "metadata": {},
   "outputs": [],
   "source": [
    "#1. Đọc file stocks2.csv vào DataFrame stocks2\n",
    "path_stocks2 = 'D:\\Lê thị phương linh\\lab3_le thi phuong linh_057\\DATA\\stocks2.csv'\n",
    "stocks2_df = pd.read_csv(path_stocks2)\n",
    "#2. Gộp stocks1 và stocks2 thành DataFrame mới tên là stocks\n",
    "stocks_df = pd.concat([stocks1, stocks2_df], ignore_index=True)\n",
    "\n",
    "\n"
   ]
  },
  {
   "cell_type": "code",
   "execution_count": 9,
   "metadata": {},
   "outputs": [
    {
     "name": "stdout",
     "output_type": "stream",
     "text": [
      "dataframe sau khi gộp stocks1 và stocks 2\n",
      "       date symbol     open         high          low    close   volume\n",
      "0  01-03-19   AMZN  1655.13  1674.260000  1651.000000  1671.73  4974877\n",
      "1  04-03-19   AMZN  1685.00  1709.430000  1674.360000  1696.17  6167358\n",
      "2  05-03-19   AMZN  1702.95  1707.800000  1689.010000  1692.43  3681522\n",
      "3  06-03-19   AMZN  1695.97   943.511538   926.775385  1668.95  3996001\n",
      "4  07-03-19   AMZN  1667.37  1669.750000  1620.510000  1625.95  4957017\n",
      "\n",
      "thoong tin tổng quan của dataframe stock_df sau khi gộp\n",
      "<class 'pandas.core.frame.DataFrame'>\n",
      "RangeIndex: 25 entries, 0 to 24\n",
      "Data columns (total 7 columns):\n",
      " #   Column  Non-Null Count  Dtype  \n",
      "---  ------  --------------  -----  \n",
      " 0   date    25 non-null     object \n",
      " 1   symbol  25 non-null     object \n",
      " 2   open    25 non-null     float64\n",
      " 3   high    25 non-null     float64\n",
      " 4   low     25 non-null     float64\n",
      " 5   close   25 non-null     float64\n",
      " 6   volume  25 non-null     int64  \n",
      "dtypes: float64(4), int64(1), object(2)\n",
      "memory usage: 1.5+ KB\n"
     ]
    }
   ],
   "source": [
    "# hiển thi data frame sau khi gộp\n",
    "print(\"dataframe sau khi gộp stocks1 và stocks 2\")\n",
    "print ( stocks_df.head())\n",
    "print(\"\\nthoong tin tổng quan của dataframe stock_df sau khi gộp\")\n",
    "stocks_df.info()"
   ]
  },
  {
   "cell_type": "markdown",
   "metadata": {},
   "source": [
    "LAB 3.4. KẾT HỢP DỮ LIỆU TỪ NHIỀU NGUỒN (thời gian thực hiện: 20-30 phút.)\n",
    "Mục Tiêu: Nắm được cách kết hợp dữ liệu từ các file khác nhau và thực hiện phân tích cơbản.\n",
    "Nhiệm Vụ:\n",
    "1. Đọc file companies.csv vào DataFrame companies.\n",
    "\n",
    "2. Hiển thị 5 dòng đầu tiên của companies.\n",
    "\n",
    "3. Kết hợp stocks (đã tạo từ bài 3) và Companies dựa trên cột chung là symbol.\n",
    "\n",
    "4. Tính giá đóng cửa (close) trung bình cho mỗi công ty.\n",
    "5. Hiển thị kết quả cho 5 công ty đầu tiên.\n"
   ]
  },
  {
   "cell_type": "code",
   "execution_count": 10,
   "metadata": {},
   "outputs": [
    {
     "name": "stdout",
     "output_type": "stream",
     "text": [
      "5 dòng đầu tiên của compaies\n",
      "       date symbol     open     high      low    close   volume\n",
      "0  01-03-19   AMZN  1655.13  1674.26  1651.00  1671.73  4974877\n",
      "1  04-03-19   AMZN  1685.00  1709.43  1674.36  1696.17  6167358\n",
      "2  05-03-19   AMZN  1702.95  1707.80  1689.01  1692.43  3681522\n",
      "3  06-03-19   AMZN  1695.97      NaN      NaN  1668.95  3996001\n",
      "4  07-03-19   AMZN  1667.37  1669.75  1620.51  1625.95  4957017\n"
     ]
    }
   ],
   "source": [
    "# ĐỌC file companies. csv và Dataframe companies_df\n",
    "#giả sử đường dẫn là \"path_companies\"\n",
    "path_companies = 'D:\\Lê thị phương linh\\lab3_le thi phuong linh_057\\DATA\\stocks1.csv'\n",
    "companies_df = pd.read_csv(path_companies)\n",
    "\n",
    "#2. hiển thị 5 dòng đầu tiên\n",
    "print(\"5 dòng đầu tiên của compaies\")\n",
    "print(companies_df.head())\n",
    "\n"
   ]
  },
  {
   "cell_type": "code",
   "execution_count": null,
   "metadata": {},
   "outputs": [],
   "source": [
    "#3 Kết hợp stocks (đã tạo từ bài 3) và Companies dựa trên cột chung là symbol.\n",
    "merged_df = pd.merge(stocks_df, companies_df, left_on='symbol', right_on='name',how='left')\n",
    "\n",
    "#hiện thị kết quả sau khi kết hợp\n",
    "print(\"kết quả sau khi kết hợp stock_df và companies_df\")\n",
    "print(merged_df.head())"
   ]
  },
  {
   "cell_type": "markdown",
   "metadata": {},
   "source": [
    "LAB 3.5: SỬ DỤNG MULTIINDEX VÀ GROUPBY(thời gian thực hiện: 30-40 phút.)\n",
    "Mục Tiêu: Hiểu cách sử dụng MultiIndex và GroupBy để phân tích dữ liệu một cách hiệu\n",
    "quả.\n",
    "Nhiệm Vụ:\n",
    "1. Tạo MultiIndex cho DataFrame stocks bằng cách sử dụng cột date và symbol làm\n",
    "chỉ mục.\n",
    "2. Sử dụng GroupBy để tính giá trung bình (open, high, low, close) và volume trung\n",
    "bình cho mỗi ngày, cho mỗi mã chứng khoán.\n",
    "3. Sắp xếp dữ liệu theo ngày và mã chứng khoán.\n",
    "4. Hiển thị kết quả cho 5 ngày đầu tiên."
   ]
  },
  {
   "cell_type": "code",
   "execution_count": null,
   "metadata": {},
   "outputs": [
    {
     "name": "stdout",
     "output_type": "stream",
     "text": [
      "dataframe stocks sau khi tạo multiIndex\n",
      "<bound method NDFrame.head of                     open         high          low    close    volume\n",
      "date     symbol                                                      \n",
      "01-03-19 AMZN    1655.13  1674.260000  1651.000000  1671.73   4974877\n",
      "04-03-19 AMZN    1685.00  1709.430000  1674.360000  1696.17   6167358\n",
      "05-03-19 AMZN    1702.95  1707.800000  1689.010000  1692.43   3681522\n",
      "06-03-19 AMZN    1695.97   943.511538   926.775385  1668.95   3996001\n",
      "07-03-19 AMZN    1667.37  1669.750000  1620.510000  1625.95   4957017\n",
      "01-03-19 AAPL     174.28   175.150000   172.890000   174.97  25886167\n",
      "04-03-19 AAPL     175.69   177.750000   173.970000   175.85  27436203\n",
      "05-03-19 AAPL     175.94   176.000000   174.540000   175.53  19737419\n",
      "06-03-19 AAPL     174.67   175.490000   173.940000   174.52  20810384\n",
      "07-03-19 AAPL     173.87   174.440000   172.020000   172.50  24796374\n",
      "01-03-19 GOOG    1124.90  1142.970000  1124.750000  1140.99   1450316\n",
      "04-03-19 GOOG    1146.99  1158.280000  1130.690000  1147.80   1446047\n",
      "05-03-19 GOOG    1150.06   943.511538   926.775385  1162.03   1443174\n",
      "06-03-19 GOOG    1162.49  1167.570000  1155.490000  1157.86   1099289\n",
      "07-03-19 GOOG    1155.72  1156.760000  1134.910000  1143.30   1166559\n",
      "01-03-19 FB       162.60   163.132000   161.690000   162.28  11097770\n",
      "04-03-19 FB       163.90   167.500000   163.830000   167.37  18894689\n",
      "05-03-19 FB       167.37   171.880000   166.550000   171.26  28187890\n",
      "06-03-19 FB       172.90   173.570000   171.270000   172.51  21531723\n",
      "07-03-19 FB       171.50   171.740000   167.610000   169.13  18306504\n",
      "01-03-19 TSLA     306.94   307.130000   291.900000   294.79  22911375\n",
      "04-03-19 TSLA     298.12   299.000000   282.780000   285.36  17096818\n",
      "05-03-19 TSLA     282.00   284.000000   270.100000   276.54  18764740\n",
      "06-03-19 TSLA     276.48   281.505800   274.390000   276.24  10335485\n",
      "07-03-19 TSLA     278.84   284.700000   274.250000   276.59   9442483>\n"
     ]
    }
   ],
   "source": [
    "#1\n",
    "stocks_df.set_index(['date', 'symbol'], inplace= True)\n",
    "\n",
    "# hiển thị data frame sau khi tạo multiindex\n",
    "print('dataframe stocks sau khi tạo multiIndex')\n",
    "print(stocks_df.head)"
   ]
  },
  {
   "cell_type": "code",
   "execution_count": null,
   "metadata": {},
   "outputs": [],
   "source": [
    "#2 tính giá trị trung bình\n",
    "gia_tb_ngay_tung_ma_ck = stocks_df.groupby(level=['date','symbol']).mean()\n",
    "print(\"giá trung bình từng ngày của 5 mã đầu tiên: \\n\",gia_tb_ngay_tung_ma_ck.head())\n",
    "#3 sắp xếp dueax liệu theo ngày và mã chứng khoán\n",
    "sorted_stocks_df= gia_tb_ngay_tung_ma_ck.sort_index()\n",
    "#4 hiển thị kết quả 5 ngày đầu tiên\n",
    "print(\"kết quả 5 ngày đầu tiên sau khi sắp xếp:\")\n",
    "print(sorted_stocks_df.head())\n"
   ]
  },
  {
   "cell_type": "markdown",
   "metadata": {},
   "source": [
    "LAB 3.6: TẠO VÀ PHÂN TÍCH PIVOT TABLE \n",
    "Mục Tiêu: Biết cách tạo và sử dụng Pivot Table để phân tích dữ liệu.\n",
    "Nhiệm Vụ:\n",
    "1. Tạo Pivot Table từ DataFrame stocks với date làm chỉ mục, symbol làm cột, và giá\n",
    "trị trung bình của close làm giá trị.\n",
    "2. Thêm một cột tính tổng volume giao dịch cho mỗi mã chứng khoán (symbol).\n",
    "3. Sắp xếp Pivot Table dựa trên tổng volume giao dịch, từ cao xuống thấp.\n",
    "4. Hiển thị kết quả cho 5 mã chứng khoán có tổng volume giao dịch cao nhất."
   ]
  },
  {
   "cell_type": "code",
   "execution_count": 17,
   "metadata": {},
   "outputs": [
    {
     "name": "stdout",
     "output_type": "stream",
     "text": [
      "kết quả cho 5 mã chứng khoán có tổng volume giao dịch cao nhất\n",
      "hiểm thị kết quả top 5 mã chứng khoán cao nhất \n",
      "symbol\n",
      "AMZN    8355.23\n",
      "GOOG    5751.98\n",
      "TSLA    1409.52\n",
      "AAPL     873.37\n",
      "FB       842.55\n",
      "dtype: float64\n"
     ]
    }
   ],
   "source": [
    "#1\n",
    "pivot_table = stocks_df.pivot_table(values= \"close\",index='date',columns='symbol',aggfunc='mean')\n",
    "\n",
    "#2\n",
    "pivot_table['total volume'] = stocks_df.groupby(['date','symbol'])['volume'].sum().groupby(level='symbol')\n",
    "\n",
    "#3 \n",
    "pivot_table_sorted= pivot_table.sort_values('total volume', ascending=False)\n",
    "\n",
    "#4 \n",
    "print(\"kết quả cho 5 mã chứng khoán có tổng volume giao dịch cao nhất\")\n",
    "#tạo pivot table moi chỉ với cột volume\n",
    "pivot_table_volume = stocks_df.pivot_table(values= \"close\",index='date',columns='symbol',aggfunc='mean')\n",
    "\n",
    "#tính tổng volume cho mỗi symbol\n",
    "total_volume_per_symbol= pivot_table_volume.sum()\n",
    "\n",
    "#sắp xếp tổng volume từ cao xuống thấp\n",
    "total_volume_sorted = total_volume_per_symbol.sort_values(ascending=False)\n",
    "\n",
    "#hiểm thị kết quả top 5 mã chứng khoán cao nhất \n",
    "print('hiểm thị kết quả top 5 mã chứng khoán cao nhất ')\n",
    "print(total_volume_sorted.head())"
   ]
  },
  {
   "cell_type": "code",
   "execution_count": null,
   "metadata": {},
   "outputs": [],
   "source": []
  }
 ],
 "metadata": {
  "kernelspec": {
   "display_name": "Python 3",
   "language": "python",
   "name": "python3"
  },
  "language_info": {
   "codemirror_mode": {
    "name": "ipython",
    "version": 3
   },
   "file_extension": ".py",
   "mimetype": "text/x-python",
   "name": "python",
   "nbconvert_exporter": "python",
   "pygments_lexer": "ipython3",
   "version": "3.11.7"
  }
 },
 "nbformat": 4,
 "nbformat_minor": 2
}
