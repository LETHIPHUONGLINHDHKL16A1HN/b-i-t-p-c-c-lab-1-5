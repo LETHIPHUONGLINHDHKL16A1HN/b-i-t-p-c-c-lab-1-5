{
 "cells": [
  {
   "cell_type": "code",
   "execution_count": 15,
   "metadata": {},
   "outputs": [],
   "source": [
    "import numpy as np"
   ]
  },
  {
   "cell_type": "markdown",
   "metadata": {},
   "source": [
    "1. Đọc dữ liệu từ 2 tập tin efficiency.txt và shifts.txt vào 2 list là effieiency và shifts :"
   ]
  },
  {
   "cell_type": "code",
   "execution_count": 16,
   "metadata": {},
   "outputs": [],
   "source": [
    "#cách 1\n",
    "with open('D:\\Lê thị phương linh\\lab2_le thi phuong linh_057\\DATA\\efficiency.txt','r',encoding=\"utf-8\") as f:\n",
    "    reader=f.read().split()\n",
    "    for i in reader:\n",
    "\n",
    "        efficiency = [float(line.strip()) for line in f]\n",
    "with open('D:\\Lê thị phương linh\\lab2_le thi phuong linh_057\\DATA\\shifts.txt', 'r') as f:\n",
    "    shifts = [line.strip() for line in f]\n"
   ]
  },
  {
   "cell_type": "markdown",
   "metadata": {},
   "source": [
    "2.Tạo numpy array np_shifts từ list shifts và kiểm tra kiểu dữ liệu của np_shifts."
   ]
  },
  {
   "cell_type": "code",
   "execution_count": 17,
   "metadata": {},
   "outputs": [
    {
     "name": "stdout",
     "output_type": "stream",
     "text": [
      "<U9\n"
     ]
    }
   ],
   "source": [
    "np_shifts=np.array(shifts)\n",
    "print(np_shifts.dtype)"
   ]
  },
  {
   "cell_type": "code",
   "execution_count": 24,
   "metadata": {},
   "outputs": [
    {
     "data": {
      "text/plain": [
       "([94.0, 97.0, 114.0, 117.0, 117.0],\n",
       " ['Afternoon', 'Afternoon', 'Afternoon', 'Morning', 'Afternoon'])"
      ]
     },
     "execution_count": 24,
     "metadata": {},
     "output_type": "execute_result"
    }
   ],
   "source": [
    "#cách 2\n",
    "#giả sử dữ liệu đc lưu trữ ở 2 đg dẫn sau\n",
    "path_1= 'D:\\Lê thị phương linh\\lab2_le thi phuong linh_057\\DATA\\efficiency.txt'\n",
    "path_2= 'D:\\Lê thị phương linh\\lab2_le thi phuong linh_057\\DATA\\shifts.txt'\n",
    "\n",
    "#đọc dữ liệu hiệu suất từ \"efficiency.txt\"\n",
    "efficiency=[]\n",
    "with open(path_1,'r') as file:\n",
    "    for line in file:\n",
    "        efficiency.append(float(line.strip()))\n",
    "\n",
    "# đọc dữ liệu ca làm việc từ shifts.txt\n",
    "shifts =[]\n",
    "with open(path_2,'r') as file:\n",
    "    for line in file:\n",
    "        shifts.append(line.strip())\n",
    "\n",
    "#hiển thị 1 phần dữ liệu để kiểm tra\n",
    "efficiency[:5],shifts[:5]"
   ]
  },
  {
   "cell_type": "markdown",
   "metadata": {},
   "source": [
    "2.Tạo numpy array np_shifts từ list shifts và kiểm tra kiểu dữ liệu của np_shifts."
   ]
  },
  {
   "cell_type": "code",
   "execution_count": 25,
   "metadata": {},
   "outputs": [
    {
     "name": "stdout",
     "output_type": "stream",
     "text": [
      "kieu du lieu cua np_efficiency:float64\n",
      "<U9\n"
     ]
    }
   ],
   "source": [
    "#cach 1\n",
    "np_efficiency=np.array(efficiency)\n",
    "print(f'kieu du lieu cua np_efficiency:{np_efficiency.dtype}')\n",
    "\n",
    "#cach 2\n",
    "np_shifts=np.array(shifts)\n",
    "print(np_shifts.dtype)"
   ]
  },
  {
   "cell_type": "markdown",
   "metadata": {},
   "source": [
    "3.tạo numpy array từ list và kiểm tra dữ liệu"
   ]
  },
  {
   "cell_type": "code",
   "execution_count": 19,
   "metadata": {},
   "outputs": [
    {
     "data": {
      "text/plain": [
       "dtype('float64')"
      ]
     },
     "execution_count": 19,
     "metadata": {},
     "output_type": "execute_result"
    }
   ],
   "source": [
    "np_efficiency=np.array(efficiency)\n",
    "np_efficiency.dtype"
   ]
  },
  {
   "cell_type": "markdown",
   "metadata": {},
   "source": [
    "4.Tính hiệu suất sản xuất trung bình của những nhân viên làm việc vào ca 'Morning'."
   ]
  },
  {
   "cell_type": "code",
   "execution_count": 27,
   "metadata": {},
   "outputs": [
    {
     "data": {
      "text/plain": [
       "96.8529411764706"
      ]
     },
     "execution_count": 27,
     "metadata": {},
     "output_type": "execute_result"
    }
   ],
   "source": [
    "#tạo ra mặt nạ mask từ mảng np_shifts,\n",
    "#nơi mỗi phần tử có gtri TRUE nêú nhân viên tương ứng làm việc,\n",
    "#VÀO CA morning và FALSE nếu ko phải\n",
    "morning_mask= np_shifts == \"Morning\"\n",
    "#lọc dữ liệu ca morning\n",
    "hieu_suat_morning = np_efficiency[morning_mask]\n",
    "#tính hiệu suất TB\n",
    "hieu_suat_Tb_morning=np.mean(hieu_suat_morning)\n",
    "hieu_suat_Tb_morning"
   ]
  },
  {
   "cell_type": "markdown",
   "metadata": {},
   "source": [
    "5.Tính hiệu suất sản xuất trung bình của những nhân viên làm việc trong các ca khác (Không\n",
    "phải là 'Morning')."
   ]
  },
  {
   "cell_type": "code",
   "execution_count": 29,
   "metadata": {},
   "outputs": [
    {
     "name": "stdout",
     "output_type": "stream",
     "text": [
      "hiệu suất sản xuất trung bình 98.23\n"
     ]
    }
   ],
   "source": [
    "ko_shifts_efficiency= np_efficiency[np_shifts !='morning']\n",
    "hieu_suat_Tb_shifts_efficiency= np.mean(ko_shifts_efficiency)\n",
    "print(\"hiệu suất sản xuất trung bình\",hieu_suat_Tb_shifts_efficiency)"
   ]
  },
  {
   "cell_type": "markdown",
   "metadata": {},
   "source": [
    "6.Tạo mảng dữ liệu có cấu trúc Structure Array tự định nghĩa workers gồm 'shift' \n",
    "(kiểu văn bản U10) và 'efficiency' (kiểu 'float')"
   ]
  },
  {
   "cell_type": "code",
   "execution_count": 28,
   "metadata": {},
   "outputs": [
    {
     "data": {
      "text/plain": [
       "array([('Afternoon',  94.), ('Afternoon',  97.), ('Afternoon', 114.),\n",
       "       ('Morning', 117.), ('Afternoon', 117.)],\n",
       "      dtype=[('shifts', '<U10'), ('efficiency', '<f8')])"
      ]
     },
     "execution_count": 28,
     "metadata": {},
     "output_type": "execute_result"
    }
   ],
   "source": [
    "#định nghĩa kiểu dữ liệu cho mảng có cấu trúc\n",
    "dtype = [('shifts', 'U10'),('efficiency',float)]\n",
    "workers= np.array(list(zip(shifts,efficiency)),dtype=dtype)\n",
    "workers[:5]"
   ]
  },
  {
   "cell_type": "code",
   "execution_count": null,
   "metadata": {},
   "outputs": [],
   "source": []
  }
 ],
 "metadata": {
  "kernelspec": {
   "display_name": "Python 3",
   "language": "python",
   "name": "python3"
  },
  "language_info": {
   "codemirror_mode": {
    "name": "ipython",
    "version": 3
   },
   "file_extension": ".py",
   "mimetype": "text/x-python",
   "name": "python",
   "nbconvert_exporter": "python",
   "pygments_lexer": "ipython3",
   "version": "3.11.7"
  }
 },
 "nbformat": 4,
 "nbformat_minor": 2
}
