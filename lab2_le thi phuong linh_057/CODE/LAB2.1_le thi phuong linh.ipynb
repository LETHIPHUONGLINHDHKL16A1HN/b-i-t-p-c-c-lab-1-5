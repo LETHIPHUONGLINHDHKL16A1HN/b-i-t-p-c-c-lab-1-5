{
 "cells": [
  {
   "cell_type": "markdown",
   "metadata": {},
   "source": [
    "- Hiểu và thực hành cách tạo mảng và thao tác cơ bản trên mảng Numpy.\n",
    "- Áp dụng fancy indexing để phân tích dữ liệu.\n",
    "Các Bước Thực Hiện:\n",
    "1. Tạo Dữ Liệu Mô Phỏng Nhiệt Độ: (10-15 phút)\n",
    " Hãy tạo một mảng Numpy mô phỏng dữ liệu nhiệt độ hàng ngày trong một tháng là số thực. Làm tròn dữ liệu đến 2 chữ số sau dấu phẩy\n",
    " Cho biết nhiệt độ trung bình trong tháng là bao nhiêu?\n",
    "2. Phân Tích Xu Hướng Nhiệt Độ: (5-10 phút)\n",
    "- Xác định ngày có nhiệt độ cao nhất, thấp nhất cho biết đó là ngày thứ mấy trong tháng?\n",
    "- Thống kê sự chênh lệch nhiệt độ giữa các ngày, tìm ngày có sự biến đổi nhiệt độ cao\n",
    "nhất?\n",
    "3. Áp dụng Fancy Indexing: (5 phút)\n",
    "Đưa ra tất cả các ngày có nhiệt độ cao hơn 20 độ C."
   ]
  },
  {
   "cell_type": "code",
   "execution_count": 1,
   "metadata": {},
   "outputs": [
    {
     "name": "stdout",
     "output_type": "stream",
     "text": [
      "Dữ liệu nhiệt độ hàng ngày trong một tháng:\n",
      "[14.91972372 21.80304822 12.22103637 31.98426623 11.70419118 29.45091468\n",
      " 18.79339151 25.70320948 30.70924341 21.29958981 19.08037493 14.75196918\n",
      " 19.83618438 11.15179873 14.59236972 27.32661341 16.97830182 15.08296695\n",
      " 12.17452639 21.1905215  28.5338485  26.30525156 31.41613609 14.54145133\n",
      " 13.15260577 27.79614742 26.93362763 34.3385006  14.29060631 24.72184326]\n",
      "Nhiệt độ trung bình trong tháng: 22.152000000000005\n"
     ]
    }
   ],
   "source": [
    "import numpy as np\n",
    "\n",
    "nhiet_do = np.round(np.random.rand(30)*50, 2)\n",
    "\n",
    "#Tính nhiệt độ trung bình trong tháng\n",
    "nhiet_do_trung_binh = np.mean(nhiet_do)\n",
    "#Tạo dữ liệu nhiệt độ hàng ngày trong một tháng\n",
    "nhiet_do = np.random.uniform(10, 35, 30)\n",
    "\n",
    "#Làm tròn dữnhiet_do\n",
    "#In ra kết quả\n",
    "print(\"Dữ liệu nhiệt độ hàng ngày trong một tháng:\") \n",
    "print(nhiet_do) \n",
    "print(\"Nhiệt độ trung bình trong tháng:\", nhiet_do_trung_binh)\n",
    "\n",
    "\n"
   ]
  },
  {
   "cell_type": "code",
   "execution_count": 3,
   "metadata": {},
   "outputs": [
    {
     "name": "stdout",
     "output_type": "stream",
     "text": [
      "Dữ liệu nhiệt độ hàng ngày trong tháng:\n",
      "[18.22 29.83 24.59 18.11 16.12 19.52 20.13 21.89 26.83 24.68 18.13 22.45\n",
      " 15.08 27.92 26.69 22.43 22.11 26.96 22.67 16.03 22.16 20.48 24.68 24.57\n",
      " 27.73 26.69 18.92 20.76 25.55 19.58]\n",
      "Nhiệt độ trung bình trong tháng: 22.383666666666667\n",
      "Ngày có nhiệt độ cao nhất: 2\n",
      "Ngày có nhiệt độ thấp nhất: 13\n",
      "Ngày có sự biến đổi nhiệt độ cao nhất: 13\n"
     ]
    }
   ],
   "source": [
    "import numpy as np\n",
    "\n",
    "#1. Tạo mảng Numpy mô phỏng dữ liệu nhiệt độ hàng ngày trong một tháng\n",
    "nhiet_do = np.random.uniform(15, 30, 30)\n",
    "\n",
    "# Làm tròn dữ liệu đến 2 chữ số sau dấu phẩy\n",
    "nhiet_do = np.round(nhiet_do, 2)\n",
    "\n",
    "# In ra mảng dữ liệu nhiệt độ\n",
    "print(\"Dữ liệu nhiệt độ hàng ngày trong tháng:\")\n",
    "print(nhiet_do)\n",
    "\n",
    "# Tính nhiệt độ trung bình trong tháng\n",
    "nhiet_do_trung_binh = np.mean(nhiet_do)\n",
    "\n",
    "# In ra nhiệt độ trung bình trong tháng\n",
    "print(\"Nhiệt độ trung bình trong tháng:\", nhiet_do_trung_binh)\n",
    "\n",
    "#2. Xác định ngày có nhiệt độ cao nhất, thấp nhất và ngày thứ mấy trong tháng\n",
    "ngay_cao_nhat = np.argmax(nhiet_do) + 1\n",
    "ngay_thap_nhat = np.argmin(nhiet_do) + 1\n",
    "\n",
    "#2. In ra ngày có nhiệt độ cao nhất, thấp nhất và ngày thứ mấy trong tháng\n",
    "print(\"Ngày có nhiệt độ cao nhất:\", ngay_cao_nhat)\n",
    "print(\"Ngày có nhiệt độ thấp nhất:\", ngay_thap_nhat)\n",
    "\n",
    "# Thống kê sự chênh lệch nhiệt độ giữa các ngày và tìm ngày có sự biến đổi nhiệt độ cao nhất\n",
    "chenh_lech_nhiet_do = np.diff(nhiet_do)\n",
    "ngay_chenh_lech_cao_nhat = np.argmax(np.abs(chenh_lech_nhiet_do)) + 1\n",
    "\n",
    "# In ra ngày có sự biến đổi nhiệt độ cao nhất\n",
    "print(\"Ngày có sự biến đổi nhiệt độ cao nhất:\", ngay_chenh_lech_cao_nhat)\n",
    "\n",
    "#3. Đưa ra tất cả các ngày có nhiệt độ cao hơn 20 độ C.\n",
    "condition= nhiet_do >20\n",
    "indices = np.where(condition)\n",
    "day_indices=indices[0]\n",
    "days_above_20_separated=day_indices +1\n"
   ]
  },
  {
   "cell_type": "markdown",
   "metadata": {},
   "source": []
  }
 ],
 "metadata": {
  "kernelspec": {
   "display_name": "Python 3",
   "language": "python",
   "name": "python3"
  },
  "language_info": {
   "codemirror_mode": {
    "name": "ipython",
    "version": 3
   },
   "file_extension": ".py",
   "mimetype": "text/x-python",
   "name": "python",
   "nbconvert_exporter": "python",
   "pygments_lexer": "ipython3",
   "version": "3.11.7"
  }
 },
 "nbformat": 4,
 "nbformat_minor": 2
}
