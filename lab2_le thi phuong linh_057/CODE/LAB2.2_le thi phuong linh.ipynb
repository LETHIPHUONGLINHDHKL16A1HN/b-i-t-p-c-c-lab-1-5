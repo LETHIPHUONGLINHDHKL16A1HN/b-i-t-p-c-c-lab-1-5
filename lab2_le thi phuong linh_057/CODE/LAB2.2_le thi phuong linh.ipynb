{
 "cells": [
  {
   "cell_type": "code",
   "execution_count": 2,
   "metadata": {},
   "outputs": [],
   "source": [
    "import numpy as np\n",
    "import csv"
   ]
  },
  {
   "cell_type": "markdown",
   "metadata": {},
   "source": []
  },
  {
   "cell_type": "markdown",
   "metadata": {},
   "source": [
    "Giả sử có file dữ liệu ‘diem_hoc_phan.csv’ chứa dữ liệu bao gồm: 'id' , 'tên sinh viên','HP 1', 'HP 2', 'HP3' các điểm HP1, HP2, HP3 theo thang điểm 10.\n",
    "1. Đọc Dữ Liệu Từ File CSV: (15-20 phút)\n",
    "- Đọc dữ liệu điểm số từ file 'diem_hp.csv' vào một list.\n",
    "- Chuyển đổi list này thành một mảng NumPy để thực hiện các phân tích.Phân Tích\n",
    "Điểm Số:\n",
    "2. Qui đổi từ thang điểm 10 sang điểm tín chỉ: (15-20 phút)\n",
    "Biết rằng:\n",
    "8.5 <= điểm <=10 thì tương ứng điểm ‘A’\n",
    "8.0 <=điểm <=8.4 ứng với điểm ‘B+’\n",
    "7.0<= điểm <8 ứng điểm B\n",
    "6.5 <=điểm<7 điểm C+\n",
    "5.5 <=điểm < 6 điểm C\n",
    "5.0<=điểm < 5.5 điểm D+\n",
    "4.0 <=điểm <5 điểm D\n",
    "điểm < 4 ứng điểm F\n",
    "3. Chia tách Dữ Liệu theo học phần để phân tích : (5-10 phút)\n",
    "Chia tách dữ liệu để phân tích điểm số của mỗi học phần riêng biệt.\n",
    "4. Phân tích dữ liệu theo từng học phần : (10-15 phút)\n",
    "Phân tích tổng, trung bình, và độ lệch chuẩn cho mỗi học phần.\n",
    "5. Kết hợp dữ liệu để phân tích tổng quan. (5-10 phút)\n",
    "Giả sử qui đổi từ thang điểm 10 sang điểm chữ như sau:"
   ]
  },
  {
   "cell_type": "code",
   "execution_count": 3,
   "metadata": {},
   "outputs": [],
   "source": [
    "import pandas as pd\n",
    "import numpy as np\n",
    "\n",
    "#1 Đọc dữ liệu từ file CSV\n",
    "data = pd.read_csv('D:\\Lê thị phương linh\\lab2_le thi phuong linh_057\\DATA\\diem_hoc_phan.csv')\n",
    "\n",
    "# Chuyển đổi data sang mảng NumPy\n",
    "data_array = data.to_numpy()\n",
    "\n",
    "#2 Qui đổi từ thang điểm 10 sang điểm tín chỉ\n",
    "def diem_chu(diem):\n",
    "    if diem == 8.5 :\n",
    "        return 'A'\n",
    "    elif diem == 8.0:\n",
    "        return 'B+'\n",
    "    elif diem == 7.0:\n",
    "        return 'B'\n",
    "    elif diem == 6.5:\n",
    "        return 'C+'\n",
    "    elif diem == 5.5:\n",
    "        return 'C'\n",
    "    elif diem == 5.0:\n",
    "        return 'D+'\n",
    "    elif diem == 4.0:\n",
    "        return 'D'\n",
    "    else:\n",
    "        return 'F'\n",
    "\n"
   ]
  },
  {
   "cell_type": "code",
   "execution_count": 4,
   "metadata": {},
   "outputs": [],
   "source": [
    "# Chia tách dữ liệu theo học phần\n",
    "hp1_data = data_array[:, [0, 1, 2]]\n",
    "hp2_data = data_array[:, [0, 1, 3]]\n",
    "hp3_data = data_array[:, [0, 1, 4]]"
   ]
  },
  {
   "cell_type": "code",
   "execution_count": 6,
   "metadata": {},
   "outputs": [
    {
     "name": "stdout",
     "output_type": "stream",
     "text": [
      "Học phần 1:\n",
      "Tổng điểm: 154.92999999999998\n",
      "Trung bình điểm: 5.1643333333333326\n",
      "Độ lệch chuẩn: 2.4078519934211533\n",
      "\n",
      "Học phần 2:\n",
      "Tổng điểm: 170.26999999999995\n",
      "Trung bình điểm: 5.6756666666666655\n",
      "Độ lệch chuẩn: 2.249476507002364\n",
      "Học phần 3:\n",
      "Tổng điểm: 188.78\n",
      "Trung bình điểm: 5.1643333333333326\n",
      "Độ lệch chuẩn: 1.8082292135923723\n"
     ]
    }
   ],
   "source": [
    "\n",
    "#3 Phân tích dữ liệu theo từng học phần\n",
    "print(\"Học phần 1:\")\n",
    "print(\"Tổng điểm: {}\".format(np.sum(hp1_data[:, 2])))\n",
    "print(\"Trung bình điểm: {}\".format(np.mean(hp1_data[:, 2])))\n",
    "print(\"Độ lệch chuẩn: {}\".format(np.std(hp1_data[:, 2])))\n",
    "\n",
    "print(\"\\nHọc phần 2:\")\n",
    "print(\"Tổng điểm: {}\".format(np.sum(hp2_data[:, 2])))\n",
    "print(\"Trung bình điểm: {}\".format(np.mean(hp2_data[:, 2])))\n",
    "print(\"Độ lệch chuẩn: {}\".format(np.std(hp2_data[:, 2])))\n",
    "\n",
    "print(\"Học phần 3:\")\n",
    "print(\"Tổng điểm: {}\".format(np.sum(hp3_data[:, 2])))\n",
    "print(\"Trung bình điểm: {}\".format(np.mean(hp1_data[:, 2])))\n",
    "print(\"Độ lệch chuẩn: {}\".format(np.std(hp3_data[:, 2])))"
   ]
  },
  {
   "cell_type": "code",
   "execution_count": null,
   "metadata": {},
   "outputs": [],
   "source": []
  }
 ],
 "metadata": {
  "kernelspec": {
   "display_name": "Python 3",
   "language": "python",
   "name": "python3"
  },
  "language_info": {
   "codemirror_mode": {
    "name": "ipython",
    "version": 3
   },
   "file_extension": ".py",
   "mimetype": "text/x-python",
   "name": "python",
   "nbconvert_exporter": "python",
   "pygments_lexer": "ipython3",
   "version": "3.11.7"
  }
 },
 "nbformat": 4,
 "nbformat_minor": 2
}
